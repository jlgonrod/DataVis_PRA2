{
 "cells": [
  {
   "cell_type": "markdown",
   "metadata": {},
   "source": [
    "<div style=\"display: flex; align-items: center; justify-content: space-between; border-bottom: 3px solid #D0D0D0; padding: 10px; font-family: Arial, sans-serif;\">\n",
    "  <!-- Logo -->\n",
    "  <img src=\"https://upload.wikimedia.org/wikipedia/commons/1/1c/Uoc_masterbrand_vertical.png\" alt=\"Logo\" style=\"width: 150px; height: auto;\">\n",
    "\n",
    "  <!-- Detalles -->\n",
    "  <div style=\"text-align: right; line-height: 1.6; margin-left: 20px; margin-right: 80px\">\n",
    "    <p style=\"margin: 0; font-size: 1.2em; font-weight: bold; color: #333;\">Proyecto: <span style=\"color: #878787;\">Práctica - Parte 2</span></p>\n",
    "    <p style=\"margin: 0; font-size: 1em; font-weight: bold; color: #333;\">Notebook: <span style=\"color: #878787;\">Exploración inicial de datos de </span></p>\n",
    "    <p style=\"color: #878787;\">Juan Luis González Rodríguez - Visualización de datos</span></p>\n",
    "  </div>\n",
    "</div>"
   ]
  },
  {
   "cell_type": "markdown",
   "metadata": {},
   "source": [
    "# 0. Librerías"
   ]
  },
  {
   "cell_type": "code",
   "execution_count": 64,
   "metadata": {},
   "outputs": [],
   "source": [
    "import pandas as pd\n",
    "import csv"
   ]
  },
  {
   "cell_type": "markdown",
   "metadata": {},
   "source": [
    "# 1. Carga de dataframes"
   ]
  },
  {
   "cell_type": "markdown",
   "metadata": {},
   "source": [
    "Se cargan los datos a unir de los diferentes dataframes para crear la visualización"
   ]
  },
  {
   "cell_type": "code",
   "execution_count": 65,
   "metadata": {},
   "outputs": [
    {
     "data": {
      "text/html": [
       "<div>\n",
       "<style scoped>\n",
       "    .dataframe tbody tr th:only-of-type {\n",
       "        vertical-align: middle;\n",
       "    }\n",
       "\n",
       "    .dataframe tbody tr th {\n",
       "        vertical-align: top;\n",
       "    }\n",
       "\n",
       "    .dataframe thead th {\n",
       "        text-align: right;\n",
       "    }\n",
       "</style>\n",
       "<table border=\"1\" class=\"dataframe\">\n",
       "  <thead>\n",
       "    <tr style=\"text-align: right;\">\n",
       "      <th></th>\n",
       "      <th>datetime</th>\n",
       "      <th>User</th>\n",
       "      <th>Inclinometer</th>\n",
       "    </tr>\n",
       "  </thead>\n",
       "  <tbody>\n",
       "    <tr>\n",
       "      <th>0</th>\n",
       "      <td>1900-01-01 10:10:22</td>\n",
       "      <td>user_1</td>\n",
       "      <td>De pie</td>\n",
       "    </tr>\n",
       "    <tr>\n",
       "      <th>1</th>\n",
       "      <td>1900-01-01 10:10:23</td>\n",
       "      <td>user_1</td>\n",
       "      <td>De pie</td>\n",
       "    </tr>\n",
       "    <tr>\n",
       "      <th>2</th>\n",
       "      <td>1900-01-01 10:10:24</td>\n",
       "      <td>user_1</td>\n",
       "      <td>Sentado</td>\n",
       "    </tr>\n",
       "    <tr>\n",
       "      <th>3</th>\n",
       "      <td>1900-01-01 10:10:25</td>\n",
       "      <td>user_1</td>\n",
       "      <td>Sentado</td>\n",
       "    </tr>\n",
       "    <tr>\n",
       "      <th>4</th>\n",
       "      <td>1900-01-01 10:10:26</td>\n",
       "      <td>user_1</td>\n",
       "      <td>De pie</td>\n",
       "    </tr>\n",
       "  </tbody>\n",
       "</table>\n",
       "</div>"
      ],
      "text/plain": [
       "             datetime    User Inclinometer\n",
       "0 1900-01-01 10:10:22  user_1       De pie\n",
       "1 1900-01-01 10:10:23  user_1       De pie\n",
       "2 1900-01-01 10:10:24  user_1      Sentado\n",
       "3 1900-01-01 10:10:25  user_1      Sentado\n",
       "4 1900-01-01 10:10:26  user_1       De pie"
      ]
     },
     "metadata": {},
     "output_type": "display_data"
    },
    {
     "name": "stdout",
     "output_type": "stream",
     "text": [
      "Shape: (1905665, 3)\n"
     ]
    }
   ],
   "source": [
    "# Este dataset contiene los datos de los inclinómetros con los valores imputados\n",
    "# Para los intervalos de tiempo en los que estaba apagado el dispositivo\n",
    "# menos de 6 segundos\n",
    "paht_inclinometer = '../0_data/clean_MMASH/inclinometer_clean.pkl'\n",
    "df_incl = pd.read_pickle(paht_inclinometer)\n",
    "\n",
    "# Se deshace el one-hot encoding del inclinómetro\n",
    "df_incl['Inclinometer'] = df_incl[['Inclinometer Off', 'Inclinometer Standing', 'Inclinometer Sitting', 'Inclinometer Lying']].idxmax(axis=1)\n",
    "df_incl.drop(columns=['Inclinometer Off', 'Inclinometer Standing', 'Inclinometer Sitting', 'Inclinometer Lying'], inplace=True)\n",
    "# Se traduce el inclinómetro a español\n",
    "esp_mapper = {\n",
    "    'Inclinometer Standing': 'De pie',\n",
    "    'Inclinometer Sitting': 'Sentado',\n",
    "    'Inclinometer Lying': 'Tumbado',\n",
    "    'Inclinometer Off': 'Apagado'\n",
    "}\n",
    "df_incl['Inclinometer'] = df_incl['Inclinometer'].map(esp_mapper)\n",
    "\n",
    "\n",
    "display(df_incl.head())\n",
    "print(f\"Shape: {df_incl.shape}\")"
   ]
  },
  {
   "cell_type": "code",
   "execution_count": 66,
   "metadata": {},
   "outputs": [
    {
     "data": {
      "text/html": [
       "<div>\n",
       "<style scoped>\n",
       "    .dataframe tbody tr th:only-of-type {\n",
       "        vertical-align: middle;\n",
       "    }\n",
       "\n",
       "    .dataframe tbody tr th {\n",
       "        vertical-align: top;\n",
       "    }\n",
       "\n",
       "    .dataframe thead th {\n",
       "        text-align: right;\n",
       "    }\n",
       "</style>\n",
       "<table border=\"1\" class=\"dataframe\">\n",
       "  <thead>\n",
       "    <tr style=\"text-align: right;\">\n",
       "      <th></th>\n",
       "      <th>datetime</th>\n",
       "      <th>User</th>\n",
       "      <th>HR</th>\n",
       "    </tr>\n",
       "  </thead>\n",
       "  <tbody>\n",
       "    <tr>\n",
       "      <th>0</th>\n",
       "      <td>1900-01-01 10:10:22</td>\n",
       "      <td>user_1</td>\n",
       "      <td>93.0</td>\n",
       "    </tr>\n",
       "    <tr>\n",
       "      <th>1</th>\n",
       "      <td>1900-01-01 10:10:23</td>\n",
       "      <td>user_1</td>\n",
       "      <td>93.0</td>\n",
       "    </tr>\n",
       "    <tr>\n",
       "      <th>2</th>\n",
       "      <td>1900-01-01 10:10:24</td>\n",
       "      <td>user_1</td>\n",
       "      <td>93.0</td>\n",
       "    </tr>\n",
       "    <tr>\n",
       "      <th>3</th>\n",
       "      <td>1900-01-01 10:10:25</td>\n",
       "      <td>user_1</td>\n",
       "      <td>93.0</td>\n",
       "    </tr>\n",
       "    <tr>\n",
       "      <th>4</th>\n",
       "      <td>1900-01-01 10:10:26</td>\n",
       "      <td>user_1</td>\n",
       "      <td>93.0</td>\n",
       "    </tr>\n",
       "  </tbody>\n",
       "</table>\n",
       "</div>"
      ],
      "text/plain": [
       "             datetime    User    HR\n",
       "0 1900-01-01 10:10:22  user_1  93.0\n",
       "1 1900-01-01 10:10:23  user_1  93.0\n",
       "2 1900-01-01 10:10:24  user_1  93.0\n",
       "3 1900-01-01 10:10:25  user_1  93.0\n",
       "4 1900-01-01 10:10:26  user_1  93.0"
      ]
     },
     "metadata": {},
     "output_type": "display_data"
    },
    {
     "data": {
      "text/plain": [
       "(1462678, 3)"
      ]
     },
     "execution_count": 66,
     "metadata": {},
     "output_type": "execute_result"
    }
   ],
   "source": [
    "# Este dataset contiene los datos de la frecuencia cardíaca recogidas por el mismo dispositivo que el inclinómetro\n",
    "# a los que se le ha aplicado una media movil para mejorar la visualización y corregir errores extremos\n",
    "path_bpm = '../0_data/clean_MMASH/actigraph_clean.pkl'\n",
    "df_bpm = pd.read_pickle(path_bpm)\n",
    "\n",
    "# Se seleccionan las columnas de interés\n",
    "df_bpm = df_bpm[['datetime', 'User', 'HR']]\n",
    "\n",
    "# Se redondean la columna de HR a 1 decimal\n",
    "df_bpm['HR'] = df_bpm['HR'].round(1)\n",
    "\n",
    "display(df_bpm.head())\n",
    "df_bpm.shape"
   ]
  },
  {
   "cell_type": "code",
   "execution_count": 67,
   "metadata": {},
   "outputs": [
    {
     "name": "stdout",
     "output_type": "stream",
     "text": [
      "El dataset de los inclinómetros tiene 442987 filas más que el de la frecuencia cardíaca\n"
     ]
    }
   ],
   "source": [
    "print(f\"El dataset de los inclinómetros tiene {df_incl.shape[0] - df_bpm.shape[0]} filas más que el de la frecuencia cardíaca\")"
   ]
  },
  {
   "cell_type": "markdown",
   "metadata": {},
   "source": [
    "Se observa que el dataset de los inclinómetros tiene más filas que el de frecuencia cardíaca. Esto se debe a que el dataset de inclinómetros tiene 1 fila por cada segundo, ya que en el proceso de limpieza se imputaron estos valores faltantes. Por otro lado, la frecuencia cardíaca no se imputó, por lo que solo se tienen los valores que se recogieron."
   ]
  },
  {
   "cell_type": "markdown",
   "metadata": {},
   "source": [
    "En base a esto se hará una unión de los dos dataframes. Se hará  un left join con el dataframe de los inclinómetros, ya que este tiene más filas que el de la frecuencia cardíaca. Para los registros que no tengan una frecuencia cardíaca asociada se registrará un NaN en la columna de HR."
   ]
  },
  {
   "cell_type": "code",
   "execution_count": 68,
   "metadata": {},
   "outputs": [
    {
     "name": "stdout",
     "output_type": "stream",
     "text": [
      "El dataset final tiene 1905665 filas y 4 columnas\n"
     ]
    }
   ],
   "source": [
    "df_vis = pd.merge(df_incl, df_bpm, on=['datetime', 'User'], how='left')\n",
    "\n",
    "print(f\"El dataset final tiene {df_vis.shape[0]} filas y {df_vis.shape[1]} columnas\")"
   ]
  },
  {
   "cell_type": "code",
   "execution_count": 69,
   "metadata": {},
   "outputs": [
    {
     "data": {
      "text/plain": [
       "datetime             0\n",
       "User                 0\n",
       "Inclinometer         0\n",
       "HR              442987\n",
       "dtype: int64"
      ]
     },
     "metadata": {},
     "output_type": "display_data"
    }
   ],
   "source": [
    "# Mostramos cuantos NA hay en cada columna\n",
    "display(df_vis.isna().sum())"
   ]
  },
  {
   "cell_type": "code",
   "execution_count": 70,
   "metadata": {},
   "outputs": [
    {
     "name": "stdout",
     "output_type": "stream",
     "text": [
      "<class 'pandas.core.frame.DataFrame'>\n",
      "RangeIndex: 1905665 entries, 0 to 1905664\n",
      "Data columns (total 4 columns):\n",
      " #   Column        Dtype         \n",
      "---  ------        -----         \n",
      " 0   datetime      datetime64[ns]\n",
      " 1   User          object        \n",
      " 2   Inclinometer  object        \n",
      " 3   HR            float64       \n",
      "dtypes: datetime64[ns](1), float64(1), object(2)\n",
      "memory usage: 58.2+ MB\n"
     ]
    }
   ],
   "source": [
    "df_vis.info()"
   ]
  },
  {
   "cell_type": "markdown",
   "metadata": {},
   "source": [
    "El valor de los NA en la columna de HR es igual que la diferencia entre el número de filas de los dos datasets. Por lo que se confirma la correcta unión de los dos datasets."
   ]
  },
  {
   "cell_type": "markdown",
   "metadata": {},
   "source": [
    "Se cambia el nombre de los usuarios para que sea más fácil de leer"
   ]
  },
  {
   "cell_type": "code",
   "execution_count": null,
   "metadata": {},
   "outputs": [],
   "source": [
    "def pretty_user_text(user):\n",
    "    \"\"\"\n",
    "    Esta función formatea el texto del identificador de un usuario para que sea más legible.\n",
    "    \n",
    "    Args:\n",
    "    user: Identificador del usuario.\n",
    "    \n",
    "    Returns:\n",
    "    Identificador del usuario formateado.\n",
    "    \"\"\"\n",
    "    user = user.replace('user_', 'Usuario ')\n",
    "    return user\n",
    "\n",
    "# Se formatea el texto de los usuarios\n",
    "df_vis['User'] = df_vis['User'].apply(pretty_user_text)"
   ]
  },
  {
   "cell_type": "markdown",
   "metadata": {},
   "source": [
    "# Guardar los datos preparados para la visualización"
   ]
  },
  {
   "cell_type": "code",
   "execution_count": 71,
   "metadata": {},
   "outputs": [],
   "source": [
    "# Se guardan los datos en un archivo csv\n",
    "path_vis_data = './visualizacion_data.csv'\n",
    "df_vis.to_csv(path_vis_data, index=False, quotechar='\"', sep=',', encoding='utf-8', quoting=csv.QUOTE_NONNUMERIC)"
   ]
  }
 ],
 "metadata": {
  "kernelspec": {
   "display_name": ".venv",
   "language": "python",
   "name": "python3"
  },
  "language_info": {
   "codemirror_mode": {
    "name": "ipython",
    "version": 3
   },
   "file_extension": ".py",
   "mimetype": "text/x-python",
   "name": "python",
   "nbconvert_exporter": "python",
   "pygments_lexer": "ipython3",
   "version": "3.10.12"
  }
 },
 "nbformat": 4,
 "nbformat_minor": 2
}
